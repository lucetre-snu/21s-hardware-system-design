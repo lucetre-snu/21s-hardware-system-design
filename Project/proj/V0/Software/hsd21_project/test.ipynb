{
 "cells": [
  {
   "cell_type": "code",
   "execution_count": 9,
   "metadata": {},
   "outputs": [
    {
     "name": "stdout",
     "output_type": "stream",
     "text": [
      "cpu 2 num_test_images(1) 0.009 13212 1.0\n",
      "cpu 4 num_test_images(1) 0.007 5086 1.0\n",
      "cpu 8 num_test_images(1) 0.006 2206 1.0\n",
      "fpga 2 num_test_images(1) 0.025 13212 1.0\n",
      "fpga 4 num_test_images(1) 0.016 5086 1.0\n",
      "fpga 8 num_test_images(1) 0.010 2206 1.0\n",
      "cpu 2 num_test_images(10) 0.087 13212 1.0\n",
      "cpu 4 num_test_images(10) 0.066 5086 1.0\n",
      "cpu 8 num_test_images(10) 0.058 2206 1.0\n",
      "fpga 2 num_test_images(10) 0.251 13212 1.0\n",
      "fpga 4 num_test_images(10) 0.154 5086 1.0\n",
      "fpga 8 num_test_images(10) 0.099 2206 1.0\n",
      "cpu 2 num_test_images(100) 0.871 13212 1.0\n",
      "cpu 4 num_test_images(100) 0.660 5086 1.0\n",
      "cpu 8 num_test_images(100) 0.571 2206 1.0\n",
      "fpga 2 num_test_images(100) 2.509 13212 1.0\n",
      "fpga 4 num_test_images(100) 1.535 5086 1.0\n",
      "fpga 8 num_test_images(100) 0.992 2206 1.0\n"
     ]
    }
   ],
   "source": [
    "import json\n",
    "\n",
    "network = 'cnn'\n",
    "for i in range(3):\n",
    "    for run_type in 'cpu fpga'.split():\n",
    "        for v_size in [2, 4, 8]:\n",
    "            num_test_images = 10**i\n",
    "            filename = \"results/{}{}_{}_num_test_images_{}.json\".format(run_type, v_size, network, num_test_images)\n",
    "            with open(filename, 'r') as fp:\n",
    "                model_stats = json.load(fp)\n",
    "                print(run_type, v_size, f'num_test_images({num_test_images})', '{:.3f}'.format(model_stats['total_time']), model_stats['avg_num_call'], model_stats['accuracy'])\n"
   ]
  },
  {
   "cell_type": "code",
   "execution_count": null,
   "metadata": {},
   "outputs": [],
   "source": []
  }
 ],
 "metadata": {
  "kernelspec": {
   "display_name": "Python 3",
   "language": "python",
   "name": "python3"
  },
  "language_info": {
   "codemirror_mode": {
    "name": "ipython",
    "version": 3
   },
   "file_extension": ".py",
   "mimetype": "text/x-python",
   "name": "python",
   "nbconvert_exporter": "python",
   "pygments_lexer": "ipython3",
   "version": "3.8.3"
  }
 },
 "nbformat": 4,
 "nbformat_minor": 4
}
