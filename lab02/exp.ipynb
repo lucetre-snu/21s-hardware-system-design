{
 "cells": [
  {
   "cell_type": "code",
   "execution_count": 3,
   "metadata": {},
   "outputs": [
    {
     "name": "stdout",
     "output_type": "stream",
     "text": [
      "read dataset...\n",
      "('images', (10000, 28, 28))\n",
      "create network...\n",
      "run test...\n",
      "{'accuracy': 0.9159,\n",
      " 'avg_num_call': 627,\n",
      " 'm_size': 64,\n",
      " 'total_image': 10000,\n",
      " 'total_time': 28.490222930908203,\n",
      " 'v_size': 64}\n"
     ]
    }
   ],
   "source": [
    "!python2 eval.py 64 64"
   ]
  },
  {
   "cell_type": "code",
   "execution_count": 4,
   "metadata": {},
   "outputs": [
    {
     "name": "stdout",
     "output_type": "stream",
     "text": [
      "read dataset...\n",
      "('images', (10000, 28, 28))\n",
      "create network...\n",
      "run test...\n",
      "{'accuracy': 0.9159,\n",
      " 'avg_num_call': 9375,\n",
      " 'm_size': 16,\n",
      " 'total_image': 10000,\n",
      " 'total_time': 22.385475158691406,\n",
      " 'v_size': 16}\n"
     ]
    }
   ],
   "source": [
    "!python2 eval.py 16 16"
   ]
  },
  {
   "cell_type": "code",
   "execution_count": 5,
   "metadata": {},
   "outputs": [
    {
     "name": "stdout",
     "output_type": "stream",
     "text": [
      "read dataset...\n",
      "('images', (10000, 28, 28))\n",
      "create network...\n",
      "run test...\n",
      "{'accuracy': 0.9159,\n",
      " 'avg_num_call': 18750,\n",
      " 'm_size': 16,\n",
      " 'total_image': 10000,\n",
      " 'total_time': 33.63879895210266,\n",
      " 'v_size': 8}\n"
     ]
    }
   ],
   "source": [
    "!python2 eval.py 16 8"
   ]
  },
  {
   "cell_type": "code",
   "execution_count": 6,
   "metadata": {},
   "outputs": [
    {
     "name": "stdout",
     "output_type": "stream",
     "text": [
      "read dataset...\n",
      "('images', (10000, 28, 28))\n",
      "create network...\n",
      "run test...\n",
      "{'accuracy': 0.9159,\n",
      " 'avg_num_call': 18750,\n",
      " 'm_size': 8,\n",
      " 'total_image': 10000,\n",
      " 'total_time': 24.550007820129395,\n",
      " 'v_size': 16}\n"
     ]
    }
   ],
   "source": [
    "!python2 eval.py 8 16"
   ]
  },
  {
   "cell_type": "code",
   "execution_count": null,
   "metadata": {},
   "outputs": [
    {
     "name": "stdout",
     "output_type": "stream",
     "text": [
      "read dataset...\n",
      "('images', (10000, 28, 28))\n",
      "create network...\n",
      "run test...\n"
     ]
    }
   ],
   "source": [
    "!python2 eval.py 8 8"
   ]
  },
  {
   "cell_type": "code",
   "execution_count": null,
   "metadata": {},
   "outputs": [],
   "source": [
    "import eval\n",
    "\n",
    "eval.main(32, 32)"
   ]
  },
  {
   "cell_type": "code",
   "execution_count": null,
   "metadata": {},
   "outputs": [],
   "source": []
  },
  {
   "cell_type": "code",
   "execution_count": null,
   "metadata": {},
   "outputs": [],
   "source": []
  },
  {
   "cell_type": "code",
   "execution_count": null,
   "metadata": {},
   "outputs": [],
   "source": []
  },
  {
   "cell_type": "code",
   "execution_count": null,
   "metadata": {},
   "outputs": [],
   "source": []
  }
 ],
 "metadata": {
  "kernelspec": {
   "display_name": "Python 3",
   "language": "python",
   "name": "python3"
  },
  "language_info": {
   "codemirror_mode": {
    "name": "ipython",
    "version": 3
   },
   "file_extension": ".py",
   "mimetype": "text/x-python",
   "name": "python",
   "nbconvert_exporter": "python",
   "pygments_lexer": "ipython3",
   "version": "3.7.6"
  }
 },
 "nbformat": 4,
 "nbformat_minor": 4
}
