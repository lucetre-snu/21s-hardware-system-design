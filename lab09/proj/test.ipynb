{
 "cells": [
  {
   "cell_type": "code",
   "execution_count": 1,
   "metadata": {},
   "outputs": [
    {
     "name": "stdout",
     "output_type": "stream",
     "text": [
      "cnn num_test_images(1) 0.007 553 1.0\n",
      "cnn num_test_images(10) 0.067 553 1.0\n",
      "cnn num_test_images(100) 0.661 553 1.0\n",
      "cnn num_test_images(1000) 6.635 553 0.98\n",
      "cnn num_test_images(10000) 66.534 553 0.98\n",
      "cnn v_size(1) 1.589 44646 1.0\n",
      "cnn v_size(2) 0.799 9141 1.0\n",
      "cnn v_size(4) 0.619 3050 1.0\n",
      "cnn v_size(8) 0.560 1188 1.0\n",
      "cnn v_size(16) 0.662 553 1.0\n",
      "cnn v_size(32) 1.340 277 1.0\n",
      "cnn v_size(64) 4.042 140 1.0\n",
      "cnn v_size(128) 37.860 71 1.0\n",
      "mlp num_test_images(1) 0.068 9375 1.0\n",
      "mlp num_test_images(10) 0.675 9375 0.9\n",
      "mlp num_test_images(100) 6.738 9375 0.97\n",
      "mlp num_test_images(1000) 67.441 9375 0.92\n",
      "mlp num_test_images(10000) 675.352 9375 0.9159\n",
      "mlp v_size(1) 13.591 150000 0.97\n",
      "mlp v_size(2) 9.524 75000 0.97\n",
      "mlp v_size(4) 7.340 37500 0.97\n",
      "mlp v_size(8) 6.323 18750 0.97\n",
      "mlp v_size(16) 6.743 9375 0.97\n",
      "mlp v_size(32) 6.537 4763 0.97\n",
      "mlp v_size(64) 6.398 2419 0.97\n",
      "mlp v_size(128) 6.562 1285 0.97\n",
      "mlp m_size(1) 8.767 149550 0.97\n",
      "mlp m_size(2) 7.663 74775 0.97\n",
      "mlp m_size(4) 7.104 37425 0.97\n",
      "mlp m_size(8) 6.830 18750 0.97\n",
      "mlp m_size(16) 6.745 9375 0.97\n",
      "mlp m_size(32) 6.789 4787 0.97\n",
      "mlp m_size(64) 6.957 2431 0.97\n",
      "mlp m_size(128) 7.502 1315 0.97\n"
     ]
    }
   ],
   "source": [
    "import json\n",
    "\n",
    "for network in ['cnn', 'mlp']:\n",
    "    for i in range(5):\n",
    "        num_test_images = 10**i\n",
    "        filename = \"results/{}_num_test_images_{}.json\".format(network, num_test_images)\n",
    "        with open(filename, 'r') as fp:\n",
    "            model_stats = json.load(fp)\n",
    "            print(network, f'num_test_images({num_test_images})', '{:.3f}'.format(model_stats['total_time']), model_stats['avg_num_call'], model_stats['accuracy'])\n",
    "\n",
    "    for i in range(8):\n",
    "        v_size = 2**i\n",
    "        filename = \"results/{}_v_size_{}.json\".format(network, v_size)\n",
    "        with open(filename, 'r') as fp:\n",
    "            model_stats = json.load(fp)\n",
    "            print(network, f'v_size({v_size})', '{:.3f}'.format(model_stats['total_time']), model_stats['avg_num_call'], model_stats['accuracy'])\n",
    "\n",
    "    if network == 'mlp':\n",
    "        for i in range(8):\n",
    "            m_size = 2**i\n",
    "            filename = \"results/{}_m_size_{}.json\".format(network, m_size)\n",
    "            with open(filename, 'r') as fp:\n",
    "                model_stats = json.load(fp)\n",
    "                print(network, f'm_size({m_size})', '{:.3f}'.format(model_stats['total_time']), model_stats['avg_num_call'], model_stats['accuracy'])"
   ]
  }
 ],
 "metadata": {
  "kernelspec": {
   "display_name": "Python 3",
   "language": "python",
   "name": "python3"
  },
  "language_info": {
   "codemirror_mode": {
    "name": "ipython",
    "version": 3
   },
   "file_extension": ".py",
   "mimetype": "text/x-python",
   "name": "python",
   "nbconvert_exporter": "python",
   "pygments_lexer": "ipython3",
   "version": "3.8.3"
  }
 },
 "nbformat": 4,
 "nbformat_minor": 4
}
